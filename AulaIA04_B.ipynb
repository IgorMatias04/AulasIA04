{
  "nbformat": 4,
  "nbformat_minor": 0,
  "metadata": {
    "colab": {
      "provenance": [],
      "authorship_tag": "ABX9TyMluACikKYkcAZTsKDwd1RF",
      "include_colab_link": true
    },
    "kernelspec": {
      "name": "python3",
      "display_name": "Python 3"
    },
    "language_info": {
      "name": "python"
    }
  },
  "cells": [
    {
      "cell_type": "markdown",
      "metadata": {
        "id": "view-in-github",
        "colab_type": "text"
      },
      "source": [
        "<a href=\"https://colab.research.google.com/github/IgorMatias04/AulaIA04/blob/main/AulaIA04_B.ipynb\" target=\"_parent\"><img src=\"https://colab.research.google.com/assets/colab-badge.svg\" alt=\"Open In Colab\"/></a>"
      ]
    },
    {
      "cell_type": "code",
      "execution_count": 1,
      "metadata": {
        "id": "MPvGELQDm4Jo"
      },
      "outputs": [],
      "source": [
        "import pandas as pd"
      ]
    },
    {
      "cell_type": "code",
      "source": [
        "from google.colab import files\n",
        "uploaded = files.upload()"
      ],
      "metadata": {
        "colab": {
          "base_uri": "https://localhost:8080/",
          "height": 89
        },
        "id": "DC-99QbJm9VV",
        "outputId": "9b9b405f-57b8-4c02-93f2-ccc162d5a8f3"
      },
      "execution_count": 2,
      "outputs": [
        {
          "output_type": "display_data",
          "data": {
            "text/plain": [
              "<IPython.core.display.HTML object>"
            ],
            "text/html": [
              "\n",
              "     <input type=\"file\" id=\"files-37d59b0f-b3d2-42af-9f52-cd973dbc8ea6\" name=\"files[]\" multiple disabled\n",
              "        style=\"border:none\" />\n",
              "     <output id=\"result-37d59b0f-b3d2-42af-9f52-cd973dbc8ea6\">\n",
              "      Upload widget is only available when the cell has been executed in the\n",
              "      current browser session. Please rerun this cell to enable.\n",
              "      </output>\n",
              "      <script>// Copyright 2017 Google LLC\n",
              "//\n",
              "// Licensed under the Apache License, Version 2.0 (the \"License\");\n",
              "// you may not use this file except in compliance with the License.\n",
              "// You may obtain a copy of the License at\n",
              "//\n",
              "//      http://www.apache.org/licenses/LICENSE-2.0\n",
              "//\n",
              "// Unless required by applicable law or agreed to in writing, software\n",
              "// distributed under the License is distributed on an \"AS IS\" BASIS,\n",
              "// WITHOUT WARRANTIES OR CONDITIONS OF ANY KIND, either express or implied.\n",
              "// See the License for the specific language governing permissions and\n",
              "// limitations under the License.\n",
              "\n",
              "/**\n",
              " * @fileoverview Helpers for google.colab Python module.\n",
              " */\n",
              "(function(scope) {\n",
              "function span(text, styleAttributes = {}) {\n",
              "  const element = document.createElement('span');\n",
              "  element.textContent = text;\n",
              "  for (const key of Object.keys(styleAttributes)) {\n",
              "    element.style[key] = styleAttributes[key];\n",
              "  }\n",
              "  return element;\n",
              "}\n",
              "\n",
              "// Max number of bytes which will be uploaded at a time.\n",
              "const MAX_PAYLOAD_SIZE = 100 * 1024;\n",
              "\n",
              "function _uploadFiles(inputId, outputId) {\n",
              "  const steps = uploadFilesStep(inputId, outputId);\n",
              "  const outputElement = document.getElementById(outputId);\n",
              "  // Cache steps on the outputElement to make it available for the next call\n",
              "  // to uploadFilesContinue from Python.\n",
              "  outputElement.steps = steps;\n",
              "\n",
              "  return _uploadFilesContinue(outputId);\n",
              "}\n",
              "\n",
              "// This is roughly an async generator (not supported in the browser yet),\n",
              "// where there are multiple asynchronous steps and the Python side is going\n",
              "// to poll for completion of each step.\n",
              "// This uses a Promise to block the python side on completion of each step,\n",
              "// then passes the result of the previous step as the input to the next step.\n",
              "function _uploadFilesContinue(outputId) {\n",
              "  const outputElement = document.getElementById(outputId);\n",
              "  const steps = outputElement.steps;\n",
              "\n",
              "  const next = steps.next(outputElement.lastPromiseValue);\n",
              "  return Promise.resolve(next.value.promise).then((value) => {\n",
              "    // Cache the last promise value to make it available to the next\n",
              "    // step of the generator.\n",
              "    outputElement.lastPromiseValue = value;\n",
              "    return next.value.response;\n",
              "  });\n",
              "}\n",
              "\n",
              "/**\n",
              " * Generator function which is called between each async step of the upload\n",
              " * process.\n",
              " * @param {string} inputId Element ID of the input file picker element.\n",
              " * @param {string} outputId Element ID of the output display.\n",
              " * @return {!Iterable<!Object>} Iterable of next steps.\n",
              " */\n",
              "function* uploadFilesStep(inputId, outputId) {\n",
              "  const inputElement = document.getElementById(inputId);\n",
              "  inputElement.disabled = false;\n",
              "\n",
              "  const outputElement = document.getElementById(outputId);\n",
              "  outputElement.innerHTML = '';\n",
              "\n",
              "  const pickedPromise = new Promise((resolve) => {\n",
              "    inputElement.addEventListener('change', (e) => {\n",
              "      resolve(e.target.files);\n",
              "    });\n",
              "  });\n",
              "\n",
              "  const cancel = document.createElement('button');\n",
              "  inputElement.parentElement.appendChild(cancel);\n",
              "  cancel.textContent = 'Cancel upload';\n",
              "  const cancelPromise = new Promise((resolve) => {\n",
              "    cancel.onclick = () => {\n",
              "      resolve(null);\n",
              "    };\n",
              "  });\n",
              "\n",
              "  // Wait for the user to pick the files.\n",
              "  const files = yield {\n",
              "    promise: Promise.race([pickedPromise, cancelPromise]),\n",
              "    response: {\n",
              "      action: 'starting',\n",
              "    }\n",
              "  };\n",
              "\n",
              "  cancel.remove();\n",
              "\n",
              "  // Disable the input element since further picks are not allowed.\n",
              "  inputElement.disabled = true;\n",
              "\n",
              "  if (!files) {\n",
              "    return {\n",
              "      response: {\n",
              "        action: 'complete',\n",
              "      }\n",
              "    };\n",
              "  }\n",
              "\n",
              "  for (const file of files) {\n",
              "    const li = document.createElement('li');\n",
              "    li.append(span(file.name, {fontWeight: 'bold'}));\n",
              "    li.append(span(\n",
              "        `(${file.type || 'n/a'}) - ${file.size} bytes, ` +\n",
              "        `last modified: ${\n",
              "            file.lastModifiedDate ? file.lastModifiedDate.toLocaleDateString() :\n",
              "                                    'n/a'} - `));\n",
              "    const percent = span('0% done');\n",
              "    li.appendChild(percent);\n",
              "\n",
              "    outputElement.appendChild(li);\n",
              "\n",
              "    const fileDataPromise = new Promise((resolve) => {\n",
              "      const reader = new FileReader();\n",
              "      reader.onload = (e) => {\n",
              "        resolve(e.target.result);\n",
              "      };\n",
              "      reader.readAsArrayBuffer(file);\n",
              "    });\n",
              "    // Wait for the data to be ready.\n",
              "    let fileData = yield {\n",
              "      promise: fileDataPromise,\n",
              "      response: {\n",
              "        action: 'continue',\n",
              "      }\n",
              "    };\n",
              "\n",
              "    // Use a chunked sending to avoid message size limits. See b/62115660.\n",
              "    let position = 0;\n",
              "    do {\n",
              "      const length = Math.min(fileData.byteLength - position, MAX_PAYLOAD_SIZE);\n",
              "      const chunk = new Uint8Array(fileData, position, length);\n",
              "      position += length;\n",
              "\n",
              "      const base64 = btoa(String.fromCharCode.apply(null, chunk));\n",
              "      yield {\n",
              "        response: {\n",
              "          action: 'append',\n",
              "          file: file.name,\n",
              "          data: base64,\n",
              "        },\n",
              "      };\n",
              "\n",
              "      let percentDone = fileData.byteLength === 0 ?\n",
              "          100 :\n",
              "          Math.round((position / fileData.byteLength) * 100);\n",
              "      percent.textContent = `${percentDone}% done`;\n",
              "\n",
              "    } while (position < fileData.byteLength);\n",
              "  }\n",
              "\n",
              "  // All done.\n",
              "  yield {\n",
              "    response: {\n",
              "      action: 'complete',\n",
              "    }\n",
              "  };\n",
              "}\n",
              "\n",
              "scope.google = scope.google || {};\n",
              "scope.google.colab = scope.google.colab || {};\n",
              "scope.google.colab._files = {\n",
              "  _uploadFiles,\n",
              "  _uploadFilesContinue,\n",
              "};\n",
              "})(self);\n",
              "</script> "
            ]
          },
          "metadata": {}
        },
        {
          "output_type": "stream",
          "name": "stdout",
          "text": [
            "Saving ENADE2017.xlsx to ENADE2017.xlsx\n"
          ]
        }
      ]
    },
    {
      "cell_type": "code",
      "source": [
        "enade = pd.read_excel('ENADE2017.xlsx')"
      ],
      "metadata": {
        "id": "GQrTebOsnGph"
      },
      "execution_count": 3,
      "outputs": []
    },
    {
      "cell_type": "code",
      "source": [
        "enade.shape"
      ],
      "metadata": {
        "colab": {
          "base_uri": "https://localhost:8080/"
        },
        "id": "Ct041yY9nKnm",
        "outputId": "db1fbe54-59f3-4f2b-df19-629ec5b65f1e"
      },
      "execution_count": 4,
      "outputs": [
        {
          "output_type": "execute_result",
          "data": {
            "text/plain": [
              "(1695, 21)"
            ]
          },
          "metadata": {},
          "execution_count": 4
        }
      ]
    },
    {
      "cell_type": "code",
      "source": [
        "enade.head()"
      ],
      "metadata": {
        "colab": {
          "base_uri": "https://localhost:8080/",
          "height": 543
        },
        "id": "Wy-XqtKUnMB-",
        "outputId": "5d636b4a-f9f3-432c-be98-845b045f0d89"
      },
      "execution_count": 5,
      "outputs": [
        {
          "output_type": "execute_result",
          "data": {
            "text/plain": [
              "    Ano  Código da Área                    Área de Avaliação  Código da IES  \\\n",
              "0  2017            4004  CIÊNCIA DA COMPUTAÇÃO (BACHARELADO)            550   \n",
              "1  2017            4004  CIÊNCIA DA COMPUTAÇÃO (BACHARELADO)           1066   \n",
              "2  2017            4004  CIÊNCIA DA COMPUTAÇÃO (BACHARELADO)           2676   \n",
              "3  2017            4004  CIÊNCIA DA COMPUTAÇÃO (BACHARELADO)           4656   \n",
              "4  2017            4004  CIÊNCIA DA COMPUTAÇÃO (BACHARELADO)            575   \n",
              "\n",
              "                               Nome da IES Sigla da IES Organização Acadêmica  \\\n",
              "0         UNIVERSIDADE ESTADUAL DA PARAÍBA         UEPB          Universidade   \n",
              "1  INSTITUTO DE ENSINO E PESQUISA OBJETIVO         IEPO             Faculdade   \n",
              "2                       FACULDADE LA SALLE          NaN             Faculdade   \n",
              "3       FACULDADE ANHANGÜERA DE PIRACICABA          NaN             Faculdade   \n",
              "4     UNIVERSIDADE FEDERAL DE MINAS GERAIS         UFMG          Universidade   \n",
              "\n",
              "      Categoria Administrativa  Código do Curso Modalidade de Ensino  ...  \\\n",
              "0             Pública Estadual          1265453  Educação Presencial  ...   \n",
              "1  Privada com fins lucrativos            58808  Educação Presencial  ...   \n",
              "2  Privada sem fins lucrativos            73438  Educação Presencial  ...   \n",
              "3  Privada com fins lucrativos           104836  Educação Presencial  ...   \n",
              "4              Pública Federal            12946  Educação Presencial  ...   \n",
              "\n",
              "   Município do Curso Sigla da UF Nº de Concluintes Inscritos  \\\n",
              "0               Patos          PB                          27   \n",
              "1              Palmas          TO                           1   \n",
              "2              Manaus          AM                          45   \n",
              "3          Piracicaba          SP                           2   \n",
              "4      Belo Horizonte          MG                          79   \n",
              "\n",
              "   Nº  de Concluintes Participantes  Nota Bruta - FG  Nota Padronizada - FG  \\\n",
              "0                                 1        48.300000                    NaN   \n",
              "1                                 0              NaN                    NaN   \n",
              "2                                 6              NaN                    NaN   \n",
              "3                                 1        49.400000                    NaN   \n",
              "4                                72        64.683333               4.526723   \n",
              "\n",
              "   Nota Bruta - CE  Nota Padronizada - CE  Conceito Enade (Contínuo)  \\\n",
              "0        31.300000                    NaN                        NaN   \n",
              "1              NaN                    NaN                        NaN   \n",
              "2              NaN                    NaN                        NaN   \n",
              "3        39.900000                    NaN                        NaN   \n",
              "4        59.127778                    5.0                   4.881681   \n",
              "\n",
              "   Conceito Enade (Faixa)  \n",
              "0                      SC  \n",
              "1                      SC  \n",
              "2                      SC  \n",
              "3                      SC  \n",
              "4                       5  \n",
              "\n",
              "[5 rows x 21 columns]"
            ],
            "text/html": [
              "\n",
              "  <div id=\"df-46b36d64-cc5d-4bfd-a925-d6f0d77ff27a\">\n",
              "    <div class=\"colab-df-container\">\n",
              "      <div>\n",
              "<style scoped>\n",
              "    .dataframe tbody tr th:only-of-type {\n",
              "        vertical-align: middle;\n",
              "    }\n",
              "\n",
              "    .dataframe tbody tr th {\n",
              "        vertical-align: top;\n",
              "    }\n",
              "\n",
              "    .dataframe thead th {\n",
              "        text-align: right;\n",
              "    }\n",
              "</style>\n",
              "<table border=\"1\" class=\"dataframe\">\n",
              "  <thead>\n",
              "    <tr style=\"text-align: right;\">\n",
              "      <th></th>\n",
              "      <th>Ano</th>\n",
              "      <th>Código da Área</th>\n",
              "      <th>Área de Avaliação</th>\n",
              "      <th>Código da IES</th>\n",
              "      <th>Nome da IES</th>\n",
              "      <th>Sigla da IES</th>\n",
              "      <th>Organização Acadêmica</th>\n",
              "      <th>Categoria Administrativa</th>\n",
              "      <th>Código do Curso</th>\n",
              "      <th>Modalidade de Ensino</th>\n",
              "      <th>...</th>\n",
              "      <th>Município do Curso</th>\n",
              "      <th>Sigla da UF</th>\n",
              "      <th>Nº de Concluintes Inscritos</th>\n",
              "      <th>Nº  de Concluintes Participantes</th>\n",
              "      <th>Nota Bruta - FG</th>\n",
              "      <th>Nota Padronizada - FG</th>\n",
              "      <th>Nota Bruta - CE</th>\n",
              "      <th>Nota Padronizada - CE</th>\n",
              "      <th>Conceito Enade (Contínuo)</th>\n",
              "      <th>Conceito Enade (Faixa)</th>\n",
              "    </tr>\n",
              "  </thead>\n",
              "  <tbody>\n",
              "    <tr>\n",
              "      <th>0</th>\n",
              "      <td>2017</td>\n",
              "      <td>4004</td>\n",
              "      <td>CIÊNCIA DA COMPUTAÇÃO (BACHARELADO)</td>\n",
              "      <td>550</td>\n",
              "      <td>UNIVERSIDADE ESTADUAL DA PARAÍBA</td>\n",
              "      <td>UEPB</td>\n",
              "      <td>Universidade</td>\n",
              "      <td>Pública Estadual</td>\n",
              "      <td>1265453</td>\n",
              "      <td>Educação Presencial</td>\n",
              "      <td>...</td>\n",
              "      <td>Patos</td>\n",
              "      <td>PB</td>\n",
              "      <td>27</td>\n",
              "      <td>1</td>\n",
              "      <td>48.300000</td>\n",
              "      <td>NaN</td>\n",
              "      <td>31.300000</td>\n",
              "      <td>NaN</td>\n",
              "      <td>NaN</td>\n",
              "      <td>SC</td>\n",
              "    </tr>\n",
              "    <tr>\n",
              "      <th>1</th>\n",
              "      <td>2017</td>\n",
              "      <td>4004</td>\n",
              "      <td>CIÊNCIA DA COMPUTAÇÃO (BACHARELADO)</td>\n",
              "      <td>1066</td>\n",
              "      <td>INSTITUTO DE ENSINO E PESQUISA OBJETIVO</td>\n",
              "      <td>IEPO</td>\n",
              "      <td>Faculdade</td>\n",
              "      <td>Privada com fins lucrativos</td>\n",
              "      <td>58808</td>\n",
              "      <td>Educação Presencial</td>\n",
              "      <td>...</td>\n",
              "      <td>Palmas</td>\n",
              "      <td>TO</td>\n",
              "      <td>1</td>\n",
              "      <td>0</td>\n",
              "      <td>NaN</td>\n",
              "      <td>NaN</td>\n",
              "      <td>NaN</td>\n",
              "      <td>NaN</td>\n",
              "      <td>NaN</td>\n",
              "      <td>SC</td>\n",
              "    </tr>\n",
              "    <tr>\n",
              "      <th>2</th>\n",
              "      <td>2017</td>\n",
              "      <td>4004</td>\n",
              "      <td>CIÊNCIA DA COMPUTAÇÃO (BACHARELADO)</td>\n",
              "      <td>2676</td>\n",
              "      <td>FACULDADE LA SALLE</td>\n",
              "      <td>NaN</td>\n",
              "      <td>Faculdade</td>\n",
              "      <td>Privada sem fins lucrativos</td>\n",
              "      <td>73438</td>\n",
              "      <td>Educação Presencial</td>\n",
              "      <td>...</td>\n",
              "      <td>Manaus</td>\n",
              "      <td>AM</td>\n",
              "      <td>45</td>\n",
              "      <td>6</td>\n",
              "      <td>NaN</td>\n",
              "      <td>NaN</td>\n",
              "      <td>NaN</td>\n",
              "      <td>NaN</td>\n",
              "      <td>NaN</td>\n",
              "      <td>SC</td>\n",
              "    </tr>\n",
              "    <tr>\n",
              "      <th>3</th>\n",
              "      <td>2017</td>\n",
              "      <td>4004</td>\n",
              "      <td>CIÊNCIA DA COMPUTAÇÃO (BACHARELADO)</td>\n",
              "      <td>4656</td>\n",
              "      <td>FACULDADE ANHANGÜERA DE PIRACICABA</td>\n",
              "      <td>NaN</td>\n",
              "      <td>Faculdade</td>\n",
              "      <td>Privada com fins lucrativos</td>\n",
              "      <td>104836</td>\n",
              "      <td>Educação Presencial</td>\n",
              "      <td>...</td>\n",
              "      <td>Piracicaba</td>\n",
              "      <td>SP</td>\n",
              "      <td>2</td>\n",
              "      <td>1</td>\n",
              "      <td>49.400000</td>\n",
              "      <td>NaN</td>\n",
              "      <td>39.900000</td>\n",
              "      <td>NaN</td>\n",
              "      <td>NaN</td>\n",
              "      <td>SC</td>\n",
              "    </tr>\n",
              "    <tr>\n",
              "      <th>4</th>\n",
              "      <td>2017</td>\n",
              "      <td>4004</td>\n",
              "      <td>CIÊNCIA DA COMPUTAÇÃO (BACHARELADO)</td>\n",
              "      <td>575</td>\n",
              "      <td>UNIVERSIDADE FEDERAL DE MINAS GERAIS</td>\n",
              "      <td>UFMG</td>\n",
              "      <td>Universidade</td>\n",
              "      <td>Pública Federal</td>\n",
              "      <td>12946</td>\n",
              "      <td>Educação Presencial</td>\n",
              "      <td>...</td>\n",
              "      <td>Belo Horizonte</td>\n",
              "      <td>MG</td>\n",
              "      <td>79</td>\n",
              "      <td>72</td>\n",
              "      <td>64.683333</td>\n",
              "      <td>4.526723</td>\n",
              "      <td>59.127778</td>\n",
              "      <td>5.0</td>\n",
              "      <td>4.881681</td>\n",
              "      <td>5</td>\n",
              "    </tr>\n",
              "  </tbody>\n",
              "</table>\n",
              "<p>5 rows × 21 columns</p>\n",
              "</div>\n",
              "      <button class=\"colab-df-convert\" onclick=\"convertToInteractive('df-46b36d64-cc5d-4bfd-a925-d6f0d77ff27a')\"\n",
              "              title=\"Convert this dataframe to an interactive table.\"\n",
              "              style=\"display:none;\">\n",
              "        \n",
              "  <svg xmlns=\"http://www.w3.org/2000/svg\" height=\"24px\"viewBox=\"0 0 24 24\"\n",
              "       width=\"24px\">\n",
              "    <path d=\"M0 0h24v24H0V0z\" fill=\"none\"/>\n",
              "    <path d=\"M18.56 5.44l.94 2.06.94-2.06 2.06-.94-2.06-.94-.94-2.06-.94 2.06-2.06.94zm-11 1L8.5 8.5l.94-2.06 2.06-.94-2.06-.94L8.5 2.5l-.94 2.06-2.06.94zm10 10l.94 2.06.94-2.06 2.06-.94-2.06-.94-.94-2.06-.94 2.06-2.06.94z\"/><path d=\"M17.41 7.96l-1.37-1.37c-.4-.4-.92-.59-1.43-.59-.52 0-1.04.2-1.43.59L10.3 9.45l-7.72 7.72c-.78.78-.78 2.05 0 2.83L4 21.41c.39.39.9.59 1.41.59.51 0 1.02-.2 1.41-.59l7.78-7.78 2.81-2.81c.8-.78.8-2.07 0-2.86zM5.41 20L4 18.59l7.72-7.72 1.47 1.35L5.41 20z\"/>\n",
              "  </svg>\n",
              "      </button>\n",
              "      \n",
              "  <style>\n",
              "    .colab-df-container {\n",
              "      display:flex;\n",
              "      flex-wrap:wrap;\n",
              "      gap: 12px;\n",
              "    }\n",
              "\n",
              "    .colab-df-convert {\n",
              "      background-color: #E8F0FE;\n",
              "      border: none;\n",
              "      border-radius: 50%;\n",
              "      cursor: pointer;\n",
              "      display: none;\n",
              "      fill: #1967D2;\n",
              "      height: 32px;\n",
              "      padding: 0 0 0 0;\n",
              "      width: 32px;\n",
              "    }\n",
              "\n",
              "    .colab-df-convert:hover {\n",
              "      background-color: #E2EBFA;\n",
              "      box-shadow: 0px 1px 2px rgba(60, 64, 67, 0.3), 0px 1px 3px 1px rgba(60, 64, 67, 0.15);\n",
              "      fill: #174EA6;\n",
              "    }\n",
              "\n",
              "    [theme=dark] .colab-df-convert {\n",
              "      background-color: #3B4455;\n",
              "      fill: #D2E3FC;\n",
              "    }\n",
              "\n",
              "    [theme=dark] .colab-df-convert:hover {\n",
              "      background-color: #434B5C;\n",
              "      box-shadow: 0px 1px 3px 1px rgba(0, 0, 0, 0.15);\n",
              "      filter: drop-shadow(0px 1px 2px rgba(0, 0, 0, 0.3));\n",
              "      fill: #FFFFFF;\n",
              "    }\n",
              "  </style>\n",
              "\n",
              "      <script>\n",
              "        const buttonEl =\n",
              "          document.querySelector('#df-46b36d64-cc5d-4bfd-a925-d6f0d77ff27a button.colab-df-convert');\n",
              "        buttonEl.style.display =\n",
              "          google.colab.kernel.accessAllowed ? 'block' : 'none';\n",
              "\n",
              "        async function convertToInteractive(key) {\n",
              "          const element = document.querySelector('#df-46b36d64-cc5d-4bfd-a925-d6f0d77ff27a');\n",
              "          const dataTable =\n",
              "            await google.colab.kernel.invokeFunction('convertToInteractive',\n",
              "                                                     [key], {});\n",
              "          if (!dataTable) return;\n",
              "\n",
              "          const docLinkHtml = 'Like what you see? Visit the ' +\n",
              "            '<a target=\"_blank\" href=https://colab.research.google.com/notebooks/data_table.ipynb>data table notebook</a>'\n",
              "            + ' to learn more about interactive tables.';\n",
              "          element.innerHTML = '';\n",
              "          dataTable['output_type'] = 'display_data';\n",
              "          await google.colab.output.renderOutput(dataTable, element);\n",
              "          const docLink = document.createElement('div');\n",
              "          docLink.innerHTML = docLinkHtml;\n",
              "          element.appendChild(docLink);\n",
              "        }\n",
              "      </script>\n",
              "    </div>\n",
              "  </div>\n",
              "  "
            ]
          },
          "metadata": {},
          "execution_count": 5
        }
      ]
    },
    {
      "cell_type": "code",
      "source": [
        "enade.describe()"
      ],
      "metadata": {
        "colab": {
          "base_uri": "https://localhost:8080/",
          "height": 399
        },
        "id": "NC4NNh3EnNOg",
        "outputId": "0f5ba4ca-5b3a-417e-8e55-1a617736df19"
      },
      "execution_count": 6,
      "outputs": [
        {
          "output_type": "execute_result",
          "data": {
            "text/plain": [
              "          Ano  Código da Área  Código da IES  Código do Curso  \\\n",
              "count  1695.0     1695.000000    1695.000000     1.695000e+03   \n",
              "mean   2017.0     2874.545723    2018.587021     4.900476e+05   \n",
              "std       0.0     2093.029110    3121.833792     7.779326e+05   \n",
              "min    2017.0       72.000000       1.000000     3.600000e+01   \n",
              "25%    2017.0       79.000000     402.000000     5.494750e+04   \n",
              "50%    2017.0     4004.000000    1036.000000     9.930000e+04   \n",
              "75%    2017.0     4006.000000    2055.000000     1.125862e+06   \n",
              "max    2017.0     6409.000000   19739.000000     5.001284e+06   \n",
              "\n",
              "       Código do Município  Nº de Concluintes Inscritos  \\\n",
              "count         1.695000e+03                  1695.000000   \n",
              "mean          3.488582e+06                    30.095575   \n",
              "std           9.159938e+05                    36.146433   \n",
              "min           1.100049e+06                     1.000000   \n",
              "25%           3.106452e+06                    11.000000   \n",
              "50%           3.530607e+06                    21.000000   \n",
              "75%           4.113952e+06                    37.000000   \n",
              "max           5.300108e+06                   541.000000   \n",
              "\n",
              "       Nº  de Concluintes Participantes  Nota Bruta - FG  \\\n",
              "count                       1695.000000      1642.000000   \n",
              "mean                          23.948083        49.832162   \n",
              "std                           27.539254         8.598895   \n",
              "min                            0.000000         6.400000   \n",
              "25%                            9.000000        44.575184   \n",
              "50%                           17.000000        50.069067   \n",
              "75%                           30.000000        55.399324   \n",
              "max                          378.000000        92.100000   \n",
              "\n",
              "       Nota Padronizada - FG  Nota Bruta - CE  Nota Padronizada - CE  \\\n",
              "count            1604.000000      1642.000000            1604.000000   \n",
              "mean                2.641239        38.783531               2.391709   \n",
              "std                 0.980454         8.652268               1.022342   \n",
              "min                 0.000000         5.000000               0.000000   \n",
              "25%                 2.028761        32.428585               1.636685   \n",
              "50%                 2.647404        38.851316               2.353891   \n",
              "75%                 3.319948        44.569737               3.089926   \n",
              "max                 5.000000        75.700000               5.000000   \n",
              "\n",
              "       Conceito Enade (Contínuo)  \n",
              "count                1604.000000  \n",
              "mean                    2.454092  \n",
              "std                     0.926690  \n",
              "min                     0.000000  \n",
              "25%                     1.785986  \n",
              "50%                     2.415933  \n",
              "75%                     3.087379  \n",
              "max                     5.000000  "
            ],
            "text/html": [
              "\n",
              "  <div id=\"df-6af6ecac-4026-4795-a9af-85c5c418535a\">\n",
              "    <div class=\"colab-df-container\">\n",
              "      <div>\n",
              "<style scoped>\n",
              "    .dataframe tbody tr th:only-of-type {\n",
              "        vertical-align: middle;\n",
              "    }\n",
              "\n",
              "    .dataframe tbody tr th {\n",
              "        vertical-align: top;\n",
              "    }\n",
              "\n",
              "    .dataframe thead th {\n",
              "        text-align: right;\n",
              "    }\n",
              "</style>\n",
              "<table border=\"1\" class=\"dataframe\">\n",
              "  <thead>\n",
              "    <tr style=\"text-align: right;\">\n",
              "      <th></th>\n",
              "      <th>Ano</th>\n",
              "      <th>Código da Área</th>\n",
              "      <th>Código da IES</th>\n",
              "      <th>Código do Curso</th>\n",
              "      <th>Código do Município</th>\n",
              "      <th>Nº de Concluintes Inscritos</th>\n",
              "      <th>Nº  de Concluintes Participantes</th>\n",
              "      <th>Nota Bruta - FG</th>\n",
              "      <th>Nota Padronizada - FG</th>\n",
              "      <th>Nota Bruta - CE</th>\n",
              "      <th>Nota Padronizada - CE</th>\n",
              "      <th>Conceito Enade (Contínuo)</th>\n",
              "    </tr>\n",
              "  </thead>\n",
              "  <tbody>\n",
              "    <tr>\n",
              "      <th>count</th>\n",
              "      <td>1695.0</td>\n",
              "      <td>1695.000000</td>\n",
              "      <td>1695.000000</td>\n",
              "      <td>1.695000e+03</td>\n",
              "      <td>1.695000e+03</td>\n",
              "      <td>1695.000000</td>\n",
              "      <td>1695.000000</td>\n",
              "      <td>1642.000000</td>\n",
              "      <td>1604.000000</td>\n",
              "      <td>1642.000000</td>\n",
              "      <td>1604.000000</td>\n",
              "      <td>1604.000000</td>\n",
              "    </tr>\n",
              "    <tr>\n",
              "      <th>mean</th>\n",
              "      <td>2017.0</td>\n",
              "      <td>2874.545723</td>\n",
              "      <td>2018.587021</td>\n",
              "      <td>4.900476e+05</td>\n",
              "      <td>3.488582e+06</td>\n",
              "      <td>30.095575</td>\n",
              "      <td>23.948083</td>\n",
              "      <td>49.832162</td>\n",
              "      <td>2.641239</td>\n",
              "      <td>38.783531</td>\n",
              "      <td>2.391709</td>\n",
              "      <td>2.454092</td>\n",
              "    </tr>\n",
              "    <tr>\n",
              "      <th>std</th>\n",
              "      <td>0.0</td>\n",
              "      <td>2093.029110</td>\n",
              "      <td>3121.833792</td>\n",
              "      <td>7.779326e+05</td>\n",
              "      <td>9.159938e+05</td>\n",
              "      <td>36.146433</td>\n",
              "      <td>27.539254</td>\n",
              "      <td>8.598895</td>\n",
              "      <td>0.980454</td>\n",
              "      <td>8.652268</td>\n",
              "      <td>1.022342</td>\n",
              "      <td>0.926690</td>\n",
              "    </tr>\n",
              "    <tr>\n",
              "      <th>min</th>\n",
              "      <td>2017.0</td>\n",
              "      <td>72.000000</td>\n",
              "      <td>1.000000</td>\n",
              "      <td>3.600000e+01</td>\n",
              "      <td>1.100049e+06</td>\n",
              "      <td>1.000000</td>\n",
              "      <td>0.000000</td>\n",
              "      <td>6.400000</td>\n",
              "      <td>0.000000</td>\n",
              "      <td>5.000000</td>\n",
              "      <td>0.000000</td>\n",
              "      <td>0.000000</td>\n",
              "    </tr>\n",
              "    <tr>\n",
              "      <th>25%</th>\n",
              "      <td>2017.0</td>\n",
              "      <td>79.000000</td>\n",
              "      <td>402.000000</td>\n",
              "      <td>5.494750e+04</td>\n",
              "      <td>3.106452e+06</td>\n",
              "      <td>11.000000</td>\n",
              "      <td>9.000000</td>\n",
              "      <td>44.575184</td>\n",
              "      <td>2.028761</td>\n",
              "      <td>32.428585</td>\n",
              "      <td>1.636685</td>\n",
              "      <td>1.785986</td>\n",
              "    </tr>\n",
              "    <tr>\n",
              "      <th>50%</th>\n",
              "      <td>2017.0</td>\n",
              "      <td>4004.000000</td>\n",
              "      <td>1036.000000</td>\n",
              "      <td>9.930000e+04</td>\n",
              "      <td>3.530607e+06</td>\n",
              "      <td>21.000000</td>\n",
              "      <td>17.000000</td>\n",
              "      <td>50.069067</td>\n",
              "      <td>2.647404</td>\n",
              "      <td>38.851316</td>\n",
              "      <td>2.353891</td>\n",
              "      <td>2.415933</td>\n",
              "    </tr>\n",
              "    <tr>\n",
              "      <th>75%</th>\n",
              "      <td>2017.0</td>\n",
              "      <td>4006.000000</td>\n",
              "      <td>2055.000000</td>\n",
              "      <td>1.125862e+06</td>\n",
              "      <td>4.113952e+06</td>\n",
              "      <td>37.000000</td>\n",
              "      <td>30.000000</td>\n",
              "      <td>55.399324</td>\n",
              "      <td>3.319948</td>\n",
              "      <td>44.569737</td>\n",
              "      <td>3.089926</td>\n",
              "      <td>3.087379</td>\n",
              "    </tr>\n",
              "    <tr>\n",
              "      <th>max</th>\n",
              "      <td>2017.0</td>\n",
              "      <td>6409.000000</td>\n",
              "      <td>19739.000000</td>\n",
              "      <td>5.001284e+06</td>\n",
              "      <td>5.300108e+06</td>\n",
              "      <td>541.000000</td>\n",
              "      <td>378.000000</td>\n",
              "      <td>92.100000</td>\n",
              "      <td>5.000000</td>\n",
              "      <td>75.700000</td>\n",
              "      <td>5.000000</td>\n",
              "      <td>5.000000</td>\n",
              "    </tr>\n",
              "  </tbody>\n",
              "</table>\n",
              "</div>\n",
              "      <button class=\"colab-df-convert\" onclick=\"convertToInteractive('df-6af6ecac-4026-4795-a9af-85c5c418535a')\"\n",
              "              title=\"Convert this dataframe to an interactive table.\"\n",
              "              style=\"display:none;\">\n",
              "        \n",
              "  <svg xmlns=\"http://www.w3.org/2000/svg\" height=\"24px\"viewBox=\"0 0 24 24\"\n",
              "       width=\"24px\">\n",
              "    <path d=\"M0 0h24v24H0V0z\" fill=\"none\"/>\n",
              "    <path d=\"M18.56 5.44l.94 2.06.94-2.06 2.06-.94-2.06-.94-.94-2.06-.94 2.06-2.06.94zm-11 1L8.5 8.5l.94-2.06 2.06-.94-2.06-.94L8.5 2.5l-.94 2.06-2.06.94zm10 10l.94 2.06.94-2.06 2.06-.94-2.06-.94-.94-2.06-.94 2.06-2.06.94z\"/><path d=\"M17.41 7.96l-1.37-1.37c-.4-.4-.92-.59-1.43-.59-.52 0-1.04.2-1.43.59L10.3 9.45l-7.72 7.72c-.78.78-.78 2.05 0 2.83L4 21.41c.39.39.9.59 1.41.59.51 0 1.02-.2 1.41-.59l7.78-7.78 2.81-2.81c.8-.78.8-2.07 0-2.86zM5.41 20L4 18.59l7.72-7.72 1.47 1.35L5.41 20z\"/>\n",
              "  </svg>\n",
              "      </button>\n",
              "      \n",
              "  <style>\n",
              "    .colab-df-container {\n",
              "      display:flex;\n",
              "      flex-wrap:wrap;\n",
              "      gap: 12px;\n",
              "    }\n",
              "\n",
              "    .colab-df-convert {\n",
              "      background-color: #E8F0FE;\n",
              "      border: none;\n",
              "      border-radius: 50%;\n",
              "      cursor: pointer;\n",
              "      display: none;\n",
              "      fill: #1967D2;\n",
              "      height: 32px;\n",
              "      padding: 0 0 0 0;\n",
              "      width: 32px;\n",
              "    }\n",
              "\n",
              "    .colab-df-convert:hover {\n",
              "      background-color: #E2EBFA;\n",
              "      box-shadow: 0px 1px 2px rgba(60, 64, 67, 0.3), 0px 1px 3px 1px rgba(60, 64, 67, 0.15);\n",
              "      fill: #174EA6;\n",
              "    }\n",
              "\n",
              "    [theme=dark] .colab-df-convert {\n",
              "      background-color: #3B4455;\n",
              "      fill: #D2E3FC;\n",
              "    }\n",
              "\n",
              "    [theme=dark] .colab-df-convert:hover {\n",
              "      background-color: #434B5C;\n",
              "      box-shadow: 0px 1px 3px 1px rgba(0, 0, 0, 0.15);\n",
              "      filter: drop-shadow(0px 1px 2px rgba(0, 0, 0, 0.3));\n",
              "      fill: #FFFFFF;\n",
              "    }\n",
              "  </style>\n",
              "\n",
              "      <script>\n",
              "        const buttonEl =\n",
              "          document.querySelector('#df-6af6ecac-4026-4795-a9af-85c5c418535a button.colab-df-convert');\n",
              "        buttonEl.style.display =\n",
              "          google.colab.kernel.accessAllowed ? 'block' : 'none';\n",
              "\n",
              "        async function convertToInteractive(key) {\n",
              "          const element = document.querySelector('#df-6af6ecac-4026-4795-a9af-85c5c418535a');\n",
              "          const dataTable =\n",
              "            await google.colab.kernel.invokeFunction('convertToInteractive',\n",
              "                                                     [key], {});\n",
              "          if (!dataTable) return;\n",
              "\n",
              "          const docLinkHtml = 'Like what you see? Visit the ' +\n",
              "            '<a target=\"_blank\" href=https://colab.research.google.com/notebooks/data_table.ipynb>data table notebook</a>'\n",
              "            + ' to learn more about interactive tables.';\n",
              "          element.innerHTML = '';\n",
              "          dataTable['output_type'] = 'display_data';\n",
              "          await google.colab.output.renderOutput(dataTable, element);\n",
              "          const docLink = document.createElement('div');\n",
              "          docLink.innerHTML = docLinkHtml;\n",
              "          element.appendChild(docLink);\n",
              "        }\n",
              "      </script>\n",
              "    </div>\n",
              "  </div>\n",
              "  "
            ]
          },
          "metadata": {},
          "execution_count": 6
        }
      ]
    },
    {
      "cell_type": "code",
      "source": [
        "import matplotlib.pyplot as plt"
      ],
      "metadata": {
        "id": "cOGEfU0znOze"
      },
      "execution_count": 7,
      "outputs": []
    },
    {
      "cell_type": "code",
      "source": [
        "enade.hist(column='Nº de Concluintes Inscritos',bins = 30)\n",
        "plt.show()"
      ],
      "metadata": {
        "colab": {
          "base_uri": "https://localhost:8080/",
          "height": 452
        },
        "id": "wyFAKj2DnQGO",
        "outputId": "6d0d213d-d950-483a-a53e-2280f1472415"
      },
      "execution_count": 9,
      "outputs": [
        {
          "output_type": "display_data",
          "data": {
            "text/plain": [
              "<Figure size 640x480 with 1 Axes>"
            ],
            "image/png": "[encoded data removed]"
          },
          "metadata": {}
        }
      ]
    },
    {
      "cell_type": "code",
      "source": [
        "enade.hist(column='Conceito Enade (Contínuo)',bins = 100)\n",
        "plt.show()"
      ],
      "metadata": {
        "colab": {
          "base_uri": "https://localhost:8080/",
          "height": 452
        },
        "id": "T9imwe0EnRg2",
        "outputId": "b7537d21-abfb-459e-fd80-c5c8596d0f51"
      },
      "execution_count": 10,
      "outputs": [
        {
          "output_type": "display_data",
          "data": {
            "text/plain": [
              "<Figure size 640x480 with 1 Axes>"
            ],
            "image/png": "[encoded data removed]"
          },
          "metadata": {}
        }
      ]
    },
    {
      "cell_type": "code",
      "source": [
        "enade.hist(column='Conceito Enade (Contínuo)',bins = 5)\n",
        "plt.show()"
      ],
      "metadata": {
        "colab": {
          "base_uri": "https://localhost:8080/",
          "height": 452
        },
        "id": "Jz2S6t7VnVX2",
        "outputId": "01f2d2b5-f426-4331-f152-a247c3f1c6ec"
      },
      "execution_count": 11,
      "outputs": [
        {
          "output_type": "display_data",
          "data": {
            "text/plain": [
              "<Figure size 640x480 with 1 Axes>"
            ],
            "image/png": "[encoded data removed]"
          },
          "metadata": {}
        }
      ]
    },
    {
      "cell_type": "code",
      "source": [
        "x = [1,2,3,4,5,6,7,8,9,10]\n",
        "y = []\n",
        "for i in x:\n",
        "  y.append(i**2)\n",
        "print(y)"
      ],
      "metadata": {
        "colab": {
          "base_uri": "https://localhost:8080/"
        },
        "id": "VPXB6BXbneUv",
        "outputId": "f7bb60eb-aaf9-46b1-a28d-1099a8db1aef"
      },
      "execution_count": 13,
      "outputs": [
        {
          "output_type": "stream",
          "name": "stdout",
          "text": [
            "[1, 4, 9, 16, 25, 36, 49, 64, 81, 100]\n"
          ]
        }
      ]
    },
    {
      "cell_type": "code",
      "source": [
        "plt.scatter(x,y)\n",
        "plt.show()"
      ],
      "metadata": {
        "colab": {
          "base_uri": "https://localhost:8080/",
          "height": 430
        },
        "id": "VFXx5HuinjwF",
        "outputId": "4ea74616-de0a-4441-fddb-826fa8b596cd"
      },
      "execution_count": 14,
      "outputs": [
        {
          "output_type": "display_data",
          "data": {
            "text/plain": [
              "<Figure size 640x480 with 1 Axes>"
            ],
            "image/png": "[encoded data removed]"
          },
          "metadata": {}
        }
      ]
    },
    {
      "cell_type": "code",
      "source": [
        "import numpy as np\n",
        "x1 = np.arange(0,10,1)\n",
        "print(x1)"
      ],
      "metadata": {
        "colab": {
          "base_uri": "https://localhost:8080/"
        },
        "id": "Hx3bW7ZYnk_e",
        "outputId": "e66c2088-4e30-479d-fb5e-c17f24d55b7b"
      },
      "execution_count": 15,
      "outputs": [
        {
          "output_type": "stream",
          "name": "stdout",
          "text": [
            "[0 1 2 3 4 5 6 7 8 9]\n"
          ]
        }
      ]
    },
    {
      "cell_type": "code",
      "source": [
        "plt.plot(x1,x1**2)\n",
        "plt.show()"
      ],
      "metadata": {
        "colab": {
          "base_uri": "https://localhost:8080/",
          "height": 430
        },
        "id": "5Mlc0AJonnCO",
        "outputId": "5bc98209-b9fb-4ebd-e00c-dbefe1a24368"
      },
      "execution_count": 16,
      "outputs": [
        {
          "output_type": "display_data",
          "data": {
            "text/plain": [
              "<Figure size 640x480 with 1 Axes>"
            ],
            "image/png": "[encoded data removed]"
          },
          "metadata": {}
        }
      ]
    },
    {
      "cell_type": "code",
      "source": [
        "x2 = np.arange(-1000,1000,1)\n",
        "plt.plot(x2,x2**2)\n",
        "plt.show()"
      ],
      "metadata": {
        "colab": {
          "base_uri": "https://localhost:8080/",
          "height": 445
        },
        "id": "gvTZfg4dnoX1",
        "outputId": "4c201f5f-f4a0-4b14-c7e9-ae8f0692e28d"
      },
      "execution_count": 17,
      "outputs": [
        {
          "output_type": "display_data",
          "data": {
            "text/plain": [
              "<Figure size 640x480 with 1 Axes>"
            ],
            "image/png": "[encoded data removed]"
          },
          "metadata": {}
        }
      ]
    },
    {
      "cell_type": "code",
      "source": [
        "escolassp = enade.loc[enade['Sigla da UF']=='SP']\n",
        "escolassp.head()"
      ],
      "metadata": {
        "colab": {
          "base_uri": "https://localhost:8080/",
          "height": 543
        },
        "id": "Grz4PEfUn6jx",
        "outputId": "d2215433-ce32-48bb-985c-9f3ab1b7e90b"
      },
      "execution_count": 18,
      "outputs": [
        {
          "output_type": "execute_result",
          "data": {
            "text/plain": [
              "     Ano  Código da Área                    Área de Avaliação  Código da IES  \\\n",
              "3   2017            4004  CIÊNCIA DA COMPUTAÇÃO (BACHARELADO)           4656   \n",
              "5   2017            4004  CIÊNCIA DA COMPUTAÇÃO (BACHARELADO)             54   \n",
              "13  2017            4004  CIÊNCIA DA COMPUTAÇÃO (BACHARELADO)            591   \n",
              "14  2017            4004  CIÊNCIA DA COMPUTAÇÃO (BACHARELADO)              7   \n",
              "28  2017            4004  CIÊNCIA DA COMPUTAÇÃO (BACHARELADO)           4925   \n",
              "\n",
              "                             Nome da IES Sigla da IES Organização Acadêmica  \\\n",
              "3     FACULDADE ANHANGÜERA DE PIRACICABA          NaN             Faculdade   \n",
              "5      UNIVERSIDADE ESTADUAL DE CAMPINAS      UNICAMP          Universidade   \n",
              "13     UNIVERSIDADE FEDERAL DE SÃO PAULO      UNIFESP          Universidade   \n",
              "14    UNIVERSIDADE FEDERAL DE SÃO CARLOS       UFSCAR          Universidade   \n",
              "28  FUNDAÇÃO UNIVERSIDADE FEDERAL DO ABC        UFABC          Universidade   \n",
              "\n",
              "       Categoria Administrativa  Código do Curso Modalidade de Ensino  ...  \\\n",
              "3   Privada com fins lucrativos           104836  Educação Presencial  ...   \n",
              "5              Pública Estadual             2717  Educação Presencial  ...   \n",
              "13              Pública Federal           110528  Educação Presencial  ...   \n",
              "14              Pública Federal           112680  Educação Presencial  ...   \n",
              "28              Pública Federal          1102342  Educação Presencial  ...   \n",
              "\n",
              "     Município do Curso Sigla da UF Nº de Concluintes Inscritos  \\\n",
              "3            Piracicaba          SP                           2   \n",
              "5              Campinas          SP                          48   \n",
              "13  São José dos Campos          SP                          45   \n",
              "14             Sorocaba          SP                          44   \n",
              "28          Santo André          SP                          93   \n",
              "\n",
              "    Nº  de Concluintes Participantes  Nota Bruta - FG  Nota Padronizada - FG  \\\n",
              "3                                  1        49.400000                    NaN   \n",
              "5                                 45        64.480000               4.497562   \n",
              "13                                38        64.542105               4.506469   \n",
              "14                                43        61.920930               4.130547   \n",
              "28                                69        64.811594               4.545118   \n",
              "\n",
              "    Nota Bruta - CE  Nota Padronizada - CE  Conceito Enade (Contínuo)  \\\n",
              "3         39.900000                    NaN                        NaN   \n",
              "5         58.597778               4.932273                   4.823595   \n",
              "13        53.265789               4.250917                   4.314805   \n",
              "14        54.158140               4.364948                   4.306348   \n",
              "28        50.160870               3.854151                   4.026892   \n",
              "\n",
              "    Conceito Enade (Faixa)  \n",
              "3                       SC  \n",
              "5                        5  \n",
              "13                       5  \n",
              "14                       5  \n",
              "28                       5  \n",
              "\n",
              "[5 rows x 21 columns]"
            ],
            "text/html": [
              "\n",
              "  <div id=\"df-cd6db737-c1ac-47e1-8843-a60c8ebe9126\">\n",
              "    <div class=\"colab-df-container\">\n",
              "      <div>\n",
              "<style scoped>\n",
              "    .dataframe tbody tr th:only-of-type {\n",
              "        vertical-align: middle;\n",
              "    }\n",
              "\n",
              "    .dataframe tbody tr th {\n",
              "        vertical-align: top;\n",
              "    }\n",
              "\n",
              "    .dataframe thead th {\n",
              "        text-align: right;\n",
              "    }\n",
              "</style>\n",
              "<table border=\"1\" class=\"dataframe\">\n",
              "  <thead>\n",
              "    <tr style=\"text-align: right;\">\n",
              "      <th></th>\n",
              "      <th>Ano</th>\n",
              "      <th>Código da Área</th>\n",
              "      <th>Área de Avaliação</th>\n",
              "      <th>Código da IES</th>\n",
              "      <th>Nome da IES</th>\n",
              "      <th>Sigla da IES</th>\n",
              "      <th>Organização Acadêmica</th>\n",
              "      <th>Categoria Administrativa</th>\n",
              "      <th>Código do Curso</th>\n",
              "      <th>Modalidade de Ensino</th>\n",
              "      <th>...</th>\n",
              "      <th>Município do Curso</th>\n",
              "      <th>Sigla da UF</th>\n",
              "      <th>Nº de Concluintes Inscritos</th>\n",
              "      <th>Nº  de Concluintes Participantes</th>\n",
              "      <th>Nota Bruta - FG</th>\n",
              "      <th>Nota Padronizada - FG</th>\n",
              "      <th>Nota Bruta - CE</th>\n",
              "      <th>Nota Padronizada - CE</th>\n",
              "      <th>Conceito Enade (Contínuo)</th>\n",
              "      <th>Conceito Enade (Faixa)</th>\n",
              "    </tr>\n",
              "  </thead>\n",
              "  <tbody>\n",
              "    <tr>\n",
              "      <th>3</th>\n",
              "      <td>2017</td>\n",
              "      <td>4004</td>\n",
              "      <td>CIÊNCIA DA COMPUTAÇÃO (BACHARELADO)</td>\n",
              "      <td>4656</td>\n",
              "      <td>FACULDADE ANHANGÜERA DE PIRACICABA</td>\n",
              "      <td>NaN</td>\n",
              "      <td>Faculdade</td>\n",
              "      <td>Privada com fins lucrativos</td>\n",
              "      <td>104836</td>\n",
              "      <td>Educação Presencial</td>\n",
              "      <td>...</td>\n",
              "      <td>Piracicaba</td>\n",
              "      <td>SP</td>\n",
              "      <td>2</td>\n",
              "      <td>1</td>\n",
              "      <td>49.400000</td>\n",
              "      <td>NaN</td>\n",
              "      <td>39.900000</td>\n",
              "      <td>NaN</td>\n",
              "      <td>NaN</td>\n",
              "      <td>SC</td>\n",
              "    </tr>\n",
              "    <tr>\n",
              "      <th>5</th>\n",
              "      <td>2017</td>\n",
              "      <td>4004</td>\n",
              "      <td>CIÊNCIA DA COMPUTAÇÃO (BACHARELADO)</td>\n",
              "      <td>54</td>\n",
              "      <td>UNIVERSIDADE ESTADUAL DE CAMPINAS</td>\n",
              "      <td>UNICAMP</td>\n",
              "      <td>Universidade</td>\n",
              "      <td>Pública Estadual</td>\n",
              "      <td>2717</td>\n",
              "      <td>Educação Presencial</td>\n",
              "      <td>...</td>\n",
              "      <td>Campinas</td>\n",
              "      <td>SP</td>\n",
              "      <td>48</td>\n",
              "      <td>45</td>\n",
              "      <td>64.480000</td>\n",
              "      <td>4.497562</td>\n",
              "      <td>58.597778</td>\n",
              "      <td>4.932273</td>\n",
              "      <td>4.823595</td>\n",
              "      <td>5</td>\n",
              "    </tr>\n",
              "    <tr>\n",
              "      <th>13</th>\n",
              "      <td>2017</td>\n",
              "      <td>4004</td>\n",
              "      <td>CIÊNCIA DA COMPUTAÇÃO (BACHARELADO)</td>\n",
              "      <td>591</td>\n",
              "      <td>UNIVERSIDADE FEDERAL DE SÃO PAULO</td>\n",
              "      <td>UNIFESP</td>\n",
              "      <td>Universidade</td>\n",
              "      <td>Pública Federal</td>\n",
              "      <td>110528</td>\n",
              "      <td>Educação Presencial</td>\n",
              "      <td>...</td>\n",
              "      <td>São José dos Campos</td>\n",
              "      <td>SP</td>\n",
              "      <td>45</td>\n",
              "      <td>38</td>\n",
              "      <td>64.542105</td>\n",
              "      <td>4.506469</td>\n",
              "      <td>53.265789</td>\n",
              "      <td>4.250917</td>\n",
              "      <td>4.314805</td>\n",
              "      <td>5</td>\n",
              "    </tr>\n",
              "    <tr>\n",
              "      <th>14</th>\n",
              "      <td>2017</td>\n",
              "      <td>4004</td>\n",
              "      <td>CIÊNCIA DA COMPUTAÇÃO (BACHARELADO)</td>\n",
              "      <td>7</td>\n",
              "      <td>UNIVERSIDADE FEDERAL DE SÃO CARLOS</td>\n",
              "      <td>UFSCAR</td>\n",
              "      <td>Universidade</td>\n",
              "      <td>Pública Federal</td>\n",
              "      <td>112680</td>\n",
              "      <td>Educação Presencial</td>\n",
              "      <td>...</td>\n",
              "      <td>Sorocaba</td>\n",
              "      <td>SP</td>\n",
              "      <td>44</td>\n",
              "      <td>43</td>\n",
              "      <td>61.920930</td>\n",
              "      <td>4.130547</td>\n",
              "      <td>54.158140</td>\n",
              "      <td>4.364948</td>\n",
              "      <td>4.306348</td>\n",
              "      <td>5</td>\n",
              "    </tr>\n",
              "    <tr>\n",
              "      <th>28</th>\n",
              "      <td>2017</td>\n",
              "      <td>4004</td>\n",
              "      <td>CIÊNCIA DA COMPUTAÇÃO (BACHARELADO)</td>\n",
              "      <td>4925</td>\n",
              "      <td>FUNDAÇÃO UNIVERSIDADE FEDERAL DO ABC</td>\n",
              "      <td>UFABC</td>\n",
              "      <td>Universidade</td>\n",
              "      <td>Pública Federal</td>\n",
              "      <td>1102342</td>\n",
              "      <td>Educação Presencial</td>\n",
              "      <td>...</td>\n",
              "      <td>Santo André</td>\n",
              "      <td>SP</td>\n",
              "      <td>93</td>\n",
              "      <td>69</td>\n",
              "      <td>64.811594</td>\n",
              "      <td>4.545118</td>\n",
              "      <td>50.160870</td>\n",
              "      <td>3.854151</td>\n",
              "      <td>4.026892</td>\n",
              "      <td>5</td>\n",
              "    </tr>\n",
              "  </tbody>\n",
              "</table>\n",
              "<p>5 rows × 21 columns</p>\n",
              "</div>\n",
              "      <button class=\"colab-df-convert\" onclick=\"convertToInteractive('df-cd6db737-c1ac-47e1-8843-a60c8ebe9126')\"\n",
              "              title=\"Convert this dataframe to an interactive table.\"\n",
              "              style=\"display:none;\">\n",
              "        \n",
              "  <svg xmlns=\"http://www.w3.org/2000/svg\" height=\"24px\"viewBox=\"0 0 24 24\"\n",
              "       width=\"24px\">\n",
              "    <path d=\"M0 0h24v24H0V0z\" fill=\"none\"/>\n",
              "    <path d=\"M18.56 5.44l.94 2.06.94-2.06 2.06-.94-2.06-.94-.94-2.06-.94 2.06-2.06.94zm-11 1L8.5 8.5l.94-2.06 2.06-.94-2.06-.94L8.5 2.5l-.94 2.06-2.06.94zm10 10l.94 2.06.94-2.06 2.06-.94-2.06-.94-.94-2.06-.94 2.06-2.06.94z\"/><path d=\"M17.41 7.96l-1.37-1.37c-.4-.4-.92-.59-1.43-.59-.52 0-1.04.2-1.43.59L10.3 9.45l-7.72 7.72c-.78.78-.78 2.05 0 2.83L4 21.41c.39.39.9.59 1.41.59.51 0 1.02-.2 1.41-.59l7.78-7.78 2.81-2.81c.8-.78.8-2.07 0-2.86zM5.41 20L4 18.59l7.72-7.72 1.47 1.35L5.41 20z\"/>\n",
              "  </svg>\n",
              "      </button>\n",
              "      \n",
              "  <style>\n",
              "    .colab-df-container {\n",
              "      display:flex;\n",
              "      flex-wrap:wrap;\n",
              "      gap: 12px;\n",
              "    }\n",
              "\n",
              "    .colab-df-convert {\n",
              "      background-color: #E8F0FE;\n",
              "      border: none;\n",
              "      border-radius: 50%;\n",
              "      cursor: pointer;\n",
              "      display: none;\n",
              "      fill: #1967D2;\n",
              "      height: 32px;\n",
              "      padding: 0 0 0 0;\n",
              "      width: 32px;\n",
              "    }\n",
              "\n",
              "    .colab-df-convert:hover {\n",
              "      background-color: #E2EBFA;\n",
              "      box-shadow: 0px 1px 2px rgba(60, 64, 67, 0.3), 0px 1px 3px 1px rgba(60, 64, 67, 0.15);\n",
              "      fill: #174EA6;\n",
              "    }\n",
              "\n",
              "    [theme=dark] .colab-df-convert {\n",
              "      background-color: #3B4455;\n",
              "      fill: #D2E3FC;\n",
              "    }\n",
              "\n",
              "    [theme=dark] .colab-df-convert:hover {\n",
              "      background-color: #434B5C;\n",
              "      box-shadow: 0px 1px 3px 1px rgba(0, 0, 0, 0.15);\n",
              "      filter: drop-shadow(0px 1px 2px rgba(0, 0, 0, 0.3));\n",
              "      fill: #FFFFFF;\n",
              "    }\n",
              "  </style>\n",
              "\n",
              "      <script>\n",
              "        const buttonEl =\n",
              "          document.querySelector('#df-cd6db737-c1ac-47e1-8843-a60c8ebe9126 button.colab-df-convert');\n",
              "        buttonEl.style.display =\n",
              "          google.colab.kernel.accessAllowed ? 'block' : 'none';\n",
              "\n",
              "        async function convertToInteractive(key) {\n",
              "          const element = document.querySelector('#df-cd6db737-c1ac-47e1-8843-a60c8ebe9126');\n",
              "          const dataTable =\n",
              "            await google.colab.kernel.invokeFunction('convertToInteractive',\n",
              "                                                     [key], {});\n",
              "          if (!dataTable) return;\n",
              "\n",
              "          const docLinkHtml = 'Like what you see? Visit the ' +\n",
              "            '<a target=\"_blank\" href=https://colab.research.google.com/notebooks/data_table.ipynb>data table notebook</a>'\n",
              "            + ' to learn more about interactive tables.';\n",
              "          element.innerHTML = '';\n",
              "          dataTable['output_type'] = 'display_data';\n",
              "          await google.colab.output.renderOutput(dataTable, element);\n",
              "          const docLink = document.createElement('div');\n",
              "          docLink.innerHTML = docLinkHtml;\n",
              "          element.appendChild(docLink);\n",
              "        }\n",
              "      </script>\n",
              "    </div>\n",
              "  </div>\n",
              "  "
            ]
          },
          "metadata": {},
          "execution_count": 18
        }
      ]
    },
    {
      "cell_type": "code",
      "source": [
        "nconcluintes = escolassp['Nº de Concluintes Inscritos']\n",
        "nota = escolassp['Nota Padronizada - CE']"
      ],
      "metadata": {
        "id": "Nl-RA2nFn9bO"
      },
      "execution_count": 22,
      "outputs": []
    },
    {
      "cell_type": "code",
      "source": [
        "plt.scatter(nconcluintes,nota)\n",
        "plt.show()"
      ],
      "metadata": {
        "colab": {
          "base_uri": "https://localhost:8080/",
          "height": 430
        },
        "id": "KpjuaJzvomue",
        "outputId": "4ed8aed7-9c8b-47b9-b738-89401fa2d7ef"
      },
      "execution_count": 23,
      "outputs": [
        {
          "output_type": "display_data",
          "data": {
            "text/plain": [
              "<Figure size 640x480 with 1 Axes>"
            ],
            "image/png": "[encoded data removed]"
          },
          "metadata": {}
        }
      ]
    },
    {
      "cell_type": "code",
      "source": [
        "plt.scatter(nota,nconcluintes)\n",
        "plt.show()"
      ],
      "metadata": {
        "colab": {
          "base_uri": "https://localhost:8080/",
          "height": 430
        },
        "id": "8XOFSlOJooCw",
        "outputId": "6e7a53c5-98d4-49cb-98ab-9dacf92442c9"
      },
      "execution_count": 24,
      "outputs": [
        {
          "output_type": "display_data",
          "data": {
            "text/plain": [
              "<Figure size 640x480 with 1 Axes>"
            ],
            "image/png": "[encoded data removed]"
          },
          "metadata": {}
        }
      ]
    },
    {
      "cell_type": "code",
      "source": [
        "nparticipantes = escolassp['Nº de Concluintes Inscritos']\n",
        "plt.scatter(nconcluintes,nparticipantes)\n",
        "plt.show()"
      ],
      "metadata": {
        "colab": {
          "base_uri": "https://localhost:8080/",
          "height": 430
        },
        "id": "CPrB41aZopKd",
        "outputId": "f0e78822-3ac4-42fb-b1d3-99e7153c5035"
      },
      "execution_count": 25,
      "outputs": [
        {
          "output_type": "display_data",
          "data": {
            "text/plain": [
              "<Figure size 640x480 with 1 Axes>"
            ],
            "image/png": "[encoded data removed]"
          },
          "metadata": {}
        }
      ]
    },
    {
      "cell_type": "code",
      "source": [
        "plt.ylabel('Concluintes')\n",
        "plt.title('Participantes')\n",
        "plt.xlim(0, 400)\n",
        "plt.ylim(0, 500)\n",
        "plt.grid(True)\n",
        "plt.scatter(nconcluintes,nparticipantes)\n",
        "plt.show()"
      ],
      "metadata": {
        "colab": {
          "base_uri": "https://localhost:8080/",
          "height": 452
        },
        "id": "_5ylggP5otWP",
        "outputId": "df6c8694-edf4-4357-b9e7-5a5f31532444"
      },
      "execution_count": 26,
      "outputs": [
        {
          "output_type": "display_data",
          "data": {
            "text/plain": [
              "<Figure size 640x480 with 1 Axes>"
            ],
            "image/png": "[encoded data removed]"
          },
          "metadata": {}
        }
      ]
    },
    {
      "cell_type": "code",
      "source": [],
      "metadata": {
        "id": "r-xG1BI4ovyv"
      },
      "execution_count": null,
      "outputs": []
    }
  ]
}